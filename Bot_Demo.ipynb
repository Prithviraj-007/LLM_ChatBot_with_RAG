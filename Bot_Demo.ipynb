{
  "cells": [
    {
      "cell_type": "markdown",
      "metadata": {
        "id": "3JUc8jivufxO"
      },
      "source": [
        "### Installing required packages"
      ]
    },
    {
      "cell_type": "code",
      "execution_count": null,
      "metadata": {
        "id": "YjhF2HUWuG97"
      },
      "outputs": [],
      "source": [
        "# !pip install langchain\n",
        "# !pip install chainlit\n",
        "# !pip install openai\n",
        "# !pip install chromadb\n",
        "# !pip install tiktoken\n",
        "# !pip install bs4"
      ]
    },
    {
      "cell_type": "markdown",
      "metadata": {
        "id": "0L4XtNjWt7pw"
      },
      "source": [
        "### Importing required libraries"
      ]
    },
    {
      "cell_type": "code",
      "execution_count": 11,
      "metadata": {
        "id": "LpFzblXfdXZr"
      },
      "outputs": [],
      "source": [
        "from langchain.document_loaders import WebBaseLoader\n",
        "from langchain.document_loaders import PyPDFLoader\n",
        "from langchain_community.document_loaders.csv_loader import CSVLoader\n",
        "from langchain_community.document_loaders import DirectoryLoader\n",
        "from langchain.text_splitter import RecursiveCharacterTextSplitter\n",
        "from langchain.vectorstores import Chroma                               # to store the data in a database\n",
        "from langchain.embeddings.openai import OpenAIEmbeddings\n",
        "from langchain.chat_models import ChatOpenAI                            # for the language model (LLM)\n",
        "from langchain.prompts import PromptTemplate                            # for defining prompt templates\n",
        "from langchain.chains import RetrievalQA                                # for creating retrieval-based question answering systems\n",
        "import chainlit as cl                                                   # for creating the user interface"
      ]
    },
    {
      "cell_type": "markdown",
      "metadata": {
        "id": "8xJtKTWBuk6v"
      },
      "source": [
        "### Defining functions"
      ]
    },
    {
      "cell_type": "code",
      "execution_count": 3,
      "metadata": {
        "id": "HxL69Dt9n_YX"
      },
      "outputs": [],
      "source": [
        "# Defining helper functions for setting up and managing components of a language model (LLM) based question answering system.\n",
        "def get_openai_api_key(file_path='openai_api_key.txt'):\n",
        "    \"\"\"Read the OpenAI API key from a file.\"\"\"\n",
        "    with open(file_path, 'r') as f:\n",
        "        return f.read()\n",
        "\n",
        "def remove_blank_lines(text):\n",
        "    \"\"\"Remove blank lines from text content.\"\"\"\n",
        "    lines = text.split('\\n')\n",
        "    non_empty_lines = [line.strip() for line in lines if line.strip()]\n",
        "    return '\\n'.join(non_empty_lines)\n",
        "\n",
        "def load_documents_from_web(url):\n",
        "    \"\"\"Load documents from a web URL.\"\"\"\n",
        "    loader = WebBaseLoader(url)\n",
        "    return loader.load()\n",
        "def load_document_from_pdf(file_path):\n",
        "    \"\"\"Load a document from a local file in PDF format.\"\"\"\n",
        "    loader = PyPDFLoader(file_path)\n",
        "    return loader.load()\n",
        "def load_document_from_csv(file_path):\n",
        "    \"\"\"Load a document from a local CSV file.\"\"\"\n",
        "    loader = CSVLoader(file_path=file_path)\n",
        "    return loader.load()\n",
        "def load_pdf_documents_from_directory(directory_path):\n",
        "    \"\"\"Load PDF documents from a directory.\"\"\"\n",
        "    glob_pattern = '**/*.pdf'  # Load PDF files from all subdirectories\n",
        "    loader = DirectoryLoader(directory_path, glob=glob_pattern)\n",
        "    return loader.load()\n",
        "\n",
        "\n",
        "def split_documents_into_chunks(docs, chunk_size=500, chunk_overlap=75):\n",
        "    \"\"\"Split documents into chunks.\"\"\"\n",
        "    text_splitter = RecursiveCharacterTextSplitter(\n",
        "        chunk_size=chunk_size,\n",
        "        chunk_overlap=chunk_overlap,\n",
        "        length_function=len,\n",
        "        is_separator_regex=False,\n",
        "    )\n",
        "    return text_splitter.split_documents(docs)\n",
        "\n",
        "def create_vector_database(chunks, embeddings, persist_directory):\n",
        "    \"\"\"Create vector database from document chunks.\"\"\"\n",
        "    vectordb = Chroma.from_documents(\n",
        "        documents=chunks,\n",
        "        embedding=embeddings,\n",
        "        persist_directory=persist_directory\n",
        "    )\n",
        "    vectordb.persist()\n",
        "    return vectordb\n",
        "\n",
        "def initialize_chat_model(model_name, openai_api_key):\n",
        "    \"\"\"Initialize the chat model.\"\"\"\n",
        "    return ChatOpenAI(model_name=model_name, temperature=0.5, openai_api_key=openai_api_key, streaming=True)\n"
      ]
    },
    {
      "cell_type": "code",
      "execution_count": 4,
      "metadata": {
        "id": "5J-ikA-mvF8m"
      },
      "outputs": [],
      "source": [
        "OPENAI_API_KEY = '#####'"
      ]
    },
    {
      "cell_type": "markdown",
      "metadata": {
        "id": "0Q5tLyiQzWpU"
      },
      "source": [
        "### Document Loading"
      ]
    },
    {
      "cell_type": "code",
      "execution_count": 7,
      "metadata": {
        "id": "aWe7SXrqvmcR"
      },
      "outputs": [],
      "source": [
        "# Load documents\n",
        "docs = load_documents_from_web(\"https://www.jioinstitute.edu.in/faq\")\n",
        "# Remove blank lines from each document's text content\n",
        "for doc in docs:\n",
        "  doc.page_content = remove_blank_lines(doc.page_content)"
      ]
    },
    {
      "cell_type": "code",
      "execution_count": 8,
      "metadata": {
        "colab": {
          "base_uri": "https://localhost:8080/"
        },
        "id": "y9CLF7-12i0z",
        "outputId": "9b2b48c6-0a85-47f4-c74d-80303677a8ad"
      },
      "outputs": [
        {
          "data": {
            "text/plain": [
              "1"
            ]
          },
          "execution_count": 8,
          "metadata": {},
          "output_type": "execute_result"
        }
      ],
      "source": [
        "len(docs)"
      ]
    },
    {
      "cell_type": "code",
      "execution_count": 9,
      "metadata": {
        "colab": {
          "base_uri": "https://localhost:8080/",
          "height": 122
        },
        "id": "oTtKDeE1v8lG",
        "outputId": "dcfe05ca-dd16-4cec-efd8-1ed894c67379"
      },
      "outputs": [
        {
          "data": {
            "text/plain": [
              "\"FREQUENTLY ASKED QUESTIONS - Jio Institute\\nSkip to main content\\nsearch\\nHeader Menu\\nAbout\\nAbout Us\\nOur Story\\nOur Vision\\nFounders\\nSmt. Nita Ambani\\nShri. Mukesh Ambani\\nLeadership\\nChancellor\\nVice Chancellor\\nProvost\\nGoverning Council\\nGlobal Advisory Council\\nAcademic Advisors\\nThe Jio Institute Advantage\\nGrowth Plan\\nAcademics\\nPG Programmes\\nPG Programmes\\nArtificial Intelligence & Data Science\\nDigital Media & Marketing Communications\\nSports Management\\nHolistic Learning\\nStudy Abroad\\nCapstone & Industry Immersion\\nLaboratories\\nLibrary\\nAdmissions\\nDomestic\\nInternational\\nEntrance Test\\nPlacements\\nOffice of Career Services\\nCareer Support\\nCorporate Relations and Collaborations\\nFaculty & Research\\nFaculty\\nResearch\\nCentre of AI for All\\nOverview\\nCVMI Research\\nInnovation and Entrepreneurship\\nJio Digital Library\\nCampus Life\\nSecondary menu\\nHeader Top Menu\\nELP\\nExecutive Education\\nCareers\\nDigital Library\\nEvents\\nNews\\nBlog\\nGallery\\nSearch\\nSocial Media Links\\nLinkedin\\nInstagram\\nYoutube\\nFacebook\\nMenu\\nsearch\\nHeader Menu\\nAbout\\nAbout Us\\nOur Story\\nOur Vision\\nFounders\\nSmt. Nita Ambani\\nShri. Mukesh Ambani\\nLeadership\\nChancellor\\nVice Chancellor\\nProvost\\nGoverning Council\\nGlobal Advisory Council\\nAcademic Advisors\\nThe Jio Institute Advantage\\nGrowth Plan\\nAcademics\\nPG Programmes\\nPG Programmes\\nArtificial Intelligence & Data Science\\nDigital Media & Marketing Communications\\nSports Management\\nHolistic Learning\\nStudy Abroad\\nCapstone & Industry Immersion\\nLaboratories\\nLibrary\\nAdmissions\\nDomestic\\nInternational\\nEntrance Test\\nPlacements\\nOffice of Career Services\\nCareer Support\\nCorporate Relations and Collaborations\\nFaculty & Research\\nFaculty\\nResearch\\nCentre of AI for All\\nOverview\\nCVMI Research\\nInnovation and Entrepreneurship\\nJio Digital Library\\nCampus Life\\nSecondary menu\\nHome\\nFREQUENTLY ASKED QUESTIONS\\nFrequently Asked Questions\\nGeneral About Jio InstituteAcademicsAdmissions and Eligibility Scholarships & Financial AidFee, Housing & FacilitiesCampus & Student LifeOffice of Career Services\\nWhere is Jio Institute\\xa0located?\\xa0The Jio Institute campus is located in Ulwe, Navi Mumbai, and is well-connected with all major locations across Mumbai through public transport.\\xa0Nearby landmarksRailway Station: Bamandongri (Nerul-Uran Line) 1.1 km , 10 minute-walkBus Stop: Sector 5, Ulwe / Aai Taru Mata Chowk (NMMT) 0.2 km, 3 minute-walk.Airport: Chhatrapati Shivaji Maharaj International Airport, 44 km, approximately 1.5-hour drive.\\xa0\\xa0What is the leadership structure of Jio Institute?\\xa0Jio Institute is led by a Governing Council, a Global Advisory Council comprising academicians from around the world as well as different Academic Advisors for different programmes.What kind of reservation policy\\xa0does\\xa0Jio Institute follow?\\xa0\\xa0Jio Institute follows a need-blind merit-based selection process.\\nIs Jio Institute affiliated to any entity?Jio Institute is a private higher education institution committed to offer world-class education delivered by renowned faculty from around the world.What is the batch size?\\xa0The batch size of PGP in AI&DS and DM&MC is about 60 students. For PGP in Sports Management, batch size is about 40 students.Why should I consider Jio Institute over any other established university/school?Jio Institute is research-focussed multidisciplinary institution with world-class programmes, faculty from globally top-ranked universities and state-of-the-art infrastructure. It seeks to provide holistic development to students and prepare them to be future leaders. Our programmes are carefully designed to achieve academic excellence, business relevance and social significance. By leveraging our connections with industry, the Institute will enable students to grow personally and professionally, and simultaneously make an impact on society. Students of Jio Institute will also get an opportunity to travel overseas to study at one of our collaborating institutions.For more details, please refer\\xa0The Jio Institute Advantage.What are the lab facilities at Jio Institute? How will it be helpful during the programme?We have state-of-the-art labs as per the course requirements. For AI & DS programme, we have set up dedicated labs such as Robotics, AR/VR Lab and Computer Vision Lab.\\xa0For DM & MC programme, we have set up dedicated labs such as Media Studio, Production Control Lab, Audio and Video Editing Bay.For more details, please visit Laboratories.What is the affiliation of Jio Institute? Is it recognised by UGC? What is it's ranking in India?Jio Institute is a private higher education institution committed to offer word-class education delivered by renowned faculty from around the world.\\xa0Jio Institute aspires to feature in the top global rankings over next 15 years.\\xa0Over a period, Jio Institute shall provide programmes in Computing & Engineering, Architecture & Urban Planning, Media, Communication & Journalism, Arts, Humanities & Science, Management & Entrepreneurship, Law Governance & Policy, and Medicine at UG, PG, Doctoral and Post-Doctoral level.\\xa0For details about Jio Institute's growth plan, please refer Growth Plan.\\nWhere can I learn more about Jio Institute’s academic programmes?Jio Institute is offering postgraduate \\xa0programmes in the following areas:For information about the Artificial Intelligence & Data Science (AI & DS) curriculum, click here.For information about the Digital Media & Marketing Communications (DM & MC) curriculum, click here.For information about the Sports Management curriculum, click here.When will Jio Institute begin its academic year?For this Academic Year, classes will commence in April 2024. For more information about our academic programmes, please click here.For more information about our academic programmes, please click here.Can you tell us more about Jio Institute’s curriculum?Jio Institute offers programmes with a comprehensive and research-focused curriculum.For information about the Artificial Intelligence & Data Science (AI & DS) curriculum, click here.For information about the Digital Media & Marketing Communications (DM & MC) curriculum, click here.For information about the Sports Management curriculum, click here.What is the ‘Study Abroad’ module at Jio Institute?Jio Institute has designed a module in collaboration with leading academic institutions from different parts of the world to provide students with an opportunity to experience their academic and research ecosystems; enhance skills relevant to their programmes as well as explore global cultures.\\xa0For more information, click here.Which international institutions has Jio Institute collaborated with?Jio Institute has collaborated with a number of reputed institutions across the world including the University of Toronto (Canada), Nanyang Technological University (Singapore), The University of Manchester (UK), and the Halıcıoğlu Data Science Institute, University of California San Diego (USA).What is the ‘Capstone & Industry Immersion’ module at Jio Institute?Students at Jio Institute will be part of an immersion experience where they will have the opportunity to work with leading companies and gain real-world work experience. Click here\\xa0to know more.Can you tell me more about Jio Institute’s faculty?Jio Institute’s faculty includes distinguished academicians, researchers and industry experts from around the world. For more information about faculty, click here.Given the pandemic situation, will the academic sessions be online/physical or a combination of both?Jio Institute will adopt a combination of on-campus, and blended learning mechanisms to conduct its full-time academic programmes. The Institute is committed to ensuring the safety of all members of its community and will adhere to all guidelines specified by the central and state governments .What kind of academic resources will be available to students at Jio Institute?Students at Jio Institute will have access to its extensive collection of books, journals and educational material. All members of the Jio Institute community will have access to Jio Institute Digital Library’s vast digital repository of resources, guides and curated content.Tell me more about the Jio Institute Digital LibraryThe Jio Institute Digital Library \\xa0is a centre for teaching, learning, creativity and innovation. The Library comprises an ever-expanding collection of academic and research resources and curated special collections—all of which can be seamlessly accessed through world-class discovery systems.What kind of help will Jio Institute provide its students for career development?Jio Institute’s Career Development Services will work with students to understand their interests and strengths, and provide career counselling towards achieving their professional goals in the corporate, entrepreneurial or academic arena.Would the international faculty visit Jio Institute and teach in-person or teach online?The international faculty at Jio Institute teach in-person classes and are on campus for the duration of the course. While some classes may also be online.Can you connect me to any of the faculty?Information about the faculty is available on our website and in our programme brochures. If you have a specific query, please write to us at admissions@jioinstitute.edu.in.What is the ratio of theoretical and practical training in these programmes?The programmes are comprehensive and rigorous with a good blend of theory and practice. In addition to classroom-based lectures, the programmes include experiential and hands-on learning components such as case studies, lab assignments, projects, industry visits and capstone projects, etc.How is the curriculum structured?For details about curriculum, please visit website \\xa0or write to us at you may reach out to us at admissions@jioinstitute.edu.inWhat all courses do you provide? Is it a degree programme?Presently, Jio Institute offers Postgraduate Programmes in three disciplines: Artificial Intelligence & Data Science (AI & DS), Digital Media & Marketing Communications (DM & MC) and Sports Management. These are industry-oriented certificate programmes.For more details, please refer Academics\\xa0section .\\xa0Do you have the list of electives I can choose from in each programme?The postgraduate porogramme in AI & DS comprises electives such as Advanced Topics in Machine Learning, Deep Reinforcement Learning, Recommendation Engine, etc.For information about the Artificial Intelligence & Data Science curriculum,\\xa0click here.\\xa0The Postgraduate Programme in DM & MC comprises electives such as Content Creation & Storytelling, Digital Media Analytics & Metrics, Managing New Products, etc.For information about the Digital Media & Marketing Communications curriculum,\\xa0click here.\\xa0The Postgraduate Programme in Sports Management does not have electives. \\xa0For information about the Sports Management curriculum, click here.How are your programmes different from online programmes?These are full-time residential programmes. We are an interdisciplinary research-driven institution that attracts academicians, researchers and students of the highest calibre. By enrolling in the Institute’s programme, you will experience an enriching intellectual environment and an enterprising approach to learning, supported by the campus facilities and dedicated labs and equipment. In addition, students will benefit immensely from the Study Abroad module.Do students have access to a network of mentors?Faculty and experts from top global institutions will form part of the students' mentor network. Apart from that, a student will also get an opportunity to be mentored by experts from the industry/social sector and collaborate with talented peers and global experts.What will be a typical day/week for a student ?Classes will begin at 9 am. There will be \\xa03-4 classroom sessions of 90 minutes each followed by lab work or other activity. Classes will be held 5 days a week with an additional day for experiential modules such as industry visits, seminars and industry talks. After classes, students will have time for self-study and collaborative activities such as projects, assignments and case studies.What are the research prospects?Research is one of the key focus areas for Jio Institute. Students are trained to:•\\xa0\\xa0\\xa0\\xa0Study development of emerging disciplines such as artificial intelligence, digital media, etc., through the Institute’s interdisciplinary research set-up, vibrant entrepreneurship ecosystem and \\xa0culture of innovation.•\\xa0\\xa0\\xa0\\xa0Build long-term relationships with global researchers, educators and scholars and participate in joint research projects.•\\xa0\\xa0\\xa0\\xa0Participate exchange programmes with top educational and research institutes.•\\xa0\\xa0\\xa0\\xa0Integrate best international and Indian practices in education and research for addressing global and national challenges.What are the facilities at Jio Institute that support research ?Jio Institute has state-of-the-art facilities such as AR/VR lab, Robotics lab, Computer vision lab, Media studio, Production Control lab, Audio & Video Editing Lab.\\xa0The Institute also has world-class library with access to numerous resources - like databases, case studies, dissertations, books, and journals - which support research.The Centre of AI for All at the Jio Institute is a dedicated research centre functioning as an integral part of the Institute to execute its multidisciplinary research vision.What is the schedule/calendar for whole year, including quarter break?The programme is divided into 4 quarters. Towards the end of every quarter, term end exams will be conducted. There will be small breaks within every quarter.\\xa0What is the examination and evaluation system?Students will be continuously assessed based on quizzes, assignments and projects (individual or group). In addition, students will have to appear for mid-term and end-term examinations. Students will also be given a long-form skill-based assessment, indicating the skills developed in the given course (technical and non-technical). For majority of the courses, the assessment will be in the form quizzes/assignments, end-term examination, and projects. The faculty will have the flexibility to modify the above composition.What is the grading system and minimum requirement to pass certificate?Jio Institute follows a relative grading system where students receive grades from A+ to F (that can be translated to a Grade Point Average, as per international norms). Institute grading system shall be available to admitted students in the Students Handbook.\\xa0How does Jio Institute bring world scholars to India?Jio Institute has already taken first step by bringing faculty from top global institutions to teach the students. We also organize conferences and symposiums and invite scholars from around the world to attend them. We participate in joint-research projects with scholars and institutions across the globe. We will encourage student and faculty exchange programmes with top educational and research institutes.When will I get to choose my electives? Would I be able change it later?Students can choose elective at the end of core module quarters as per their programme of study. Students may be given time to drop an elective course prior to Session 2 of the said elective.Can I get time table in advance so that I can plan my travel to home accordingly?Yes, once your admission in confirmed, we will share with you a detailed academic calendar, including a list of holidays.\\xa0In case of a medical emergency, can I resume the programme and continue in the next cohort?In case of exigencies, Jio Institute will consider such a request. However, approval of such request may be subject to various factors and will be decided on a case-to-case basis.What is Centre of AI for all? How will it help?The Centre of AI for All at the Jio Institute is a dedicated research centre functioning as an integral part of the Institute to execute its multidisciplinary research vision.For more details, please refer\\xa0Centre of AI for AllWhat is the attendance criteria? What percentage of \\xa0attendance is mandatory for the programme?To derive the best output from the programme, you are expected to attend all the lectures. However, in case of exigencies, you will be required to inform the concerned programme manager. We may have a minimum attendance requirement for specific courses, which will be informed to admitted students.What all days will I have classes? Will I have classes on Saturdays or Sundays as well?Regular lectures will be conducted from Monday to Friday. However, given the intensiveness of each programme, a significant amount of time on weekends will have to be devoted to self-learning, project work, guest lectures, classes, etc.You will also have time to experience a balanced student life to focus on your health and fitness, recreation and social interactions.What will be the timings of lectures?The usual lecture timings will be from 9 am - 5 pm, and there will be short breaks within this duration.Time will also be provided for discussions with the faculty.Can I access Library on weekends?Jio Institute has set up a state-of-the-art library adopting a blend of advanced digital technology and physical space to augment the knowledge and learning needs of its students, faculty and staff.The Library will be accessible to all members on weekends as well.\\nAre admissions to the programmes open? What is the last date to apply?Yes, admissions to our postgraduate programmes are currently open.\\xa0Please visit Admissions for more information.What is the admission process?Our admission process is a simple three-step process:1.\\xa0\\xa0\\xa0\\xa0Fill in the online application form.2.\\xa0\\xa0\\xa0\\xa0Submit a valid GRE/GMAT/CAT/GATE score or appear for Jio Institute Entrance Test (JET).3.\\xa0\\xa0\\xa0\\xa0Appear for an personal interview.\\xa0The final selection will be on the holistic evaluation of the application, GRE/GMAT/CAT/GATE/JET score and personal interview.Please visit Admissions for more information.For more details, please refer Admissions for more information.What is the eligibility criteria for PGP in Artificial Intelligence & Data Science (AI & DS)? Am I eligible?To apply, the candidate should have:•\\xa0\\xa0\\xa0\\xa0A four-year undergraduate degree or its equivalent, in the field of Engineering/Science/ Mathematics and Statistics with minimum 50 per cent or equivalent CGPA. A postgraduate degree (if the undergraduate degree is of three years) in the field of Engineering/Science/Mathematics and Statistics with minimum 50 per cent or equivalent CGPA.•\\xa0\\xa0\\xa0\\xa0A strong foundation in Mathematics, Statistics and Computer Science along with programming experience.•\\xa0\\xa0\\xa0\\xa0A valid GRE/GMAT/CAT/GATE score or appear for Jio Institute Entrance Test (JET).•\\xa0\\xa0\\xa0\\xa0Preference shall be given to candidates with relevant experience.\\xa0For more details, please refer to Post Graduate Programme in Artificial Intelligence & Data Science (AI & DS)What is the eligibility criteria for PGP in Digital Media & Marketing Communications (DM & MC)? Am I eligible?To apply, the candidate should have:•\\xa0\\xa0\\xa0\\xa0An undergraduate degree in any discipline with minimum 50 per cent or equivalent CGPA.•\\xa0\\xa0\\xa0\\xa0A valid GRE/GMAT/CAT score or appear for Jio Institute Entrance Test (JET).•\\xa0\\xa0\\xa0\\xa0Preference shall be given to candidates with relevant experience. \\xa0For more details, please refer\\xa0Post Graduate Programme in Digital Media & Marketing Communications (DM & MC)What is the eligibility criteria for PGP in Sports Management? Am I eligible?To apply, the candidate should have:•\\xa0\\xa0\\xa0\\xa0An undergraduate degree in any discipline with minimum 50 per cent or equivalent CGPA.•\\xa0\\xa0\\xa0\\xa0A valid GRE/GMAT/CAT score or appear for Jio Institute Entrance Test (JET).•\\xa0\\xa0\\xa0\\xa0Preference shall be given to candidates with relevant experience.For more details, please refer\\xa0Post Graduate Programme in Sports ManagementIs work experience mandatory?Preference shall be given to candidates with relevant experience.I graduated 1 year back but not working since. Am I eligible to apply?Yes, you can apply, as we follow a holistic evaluation process. Work experience will enable you to better understand the application of knowledge, tools and concepts.Will working for my father's business count as work experience?Working in family business/your own start-up can be considered if you can demonstrate that you have gained relevant work experience that enables you to better understand the application of knowledge, tools and concepts taught during an academic programme. We encourage you to apply and seek guidance from an admissions counsellor to gain further insight.I have 8-10 years of work experience. Can I apply? What is the average age group of the batch?Candidates with higher experience are welcome to apply. The average age of the current (2023-24) batch is 25 years.When will the academic sessions commence? Will it take place online or on campus?Our academic sessions will commence in April 2024. All our postgraduate programmes are full-time residential programmes.\\xa0I have not appeared for any entrance exam. Am I eligible to apply?You are required to submit a valid GRE/GMAT/GATE/CAT score or appear for Jio Institute Entrance Test (JET) as per the requirement of the programme you are applying for.I have scored 49 per cent in my graduation. Can I apply?As per the eligibility criteria, you require a score of at least 50 per cent or equivalent CGPA in graduation to be eligible.I have a valid GRE/GMAT/CAT/GATE score. Am I eligible to apply?Yes. You can submit a valid GRE or GMAT score as per the requirement of the programme.What is your cut off?\\xa0Candidates will be evaluated holistically based on the quality of their application, their test scores and interview. Test score will be one of the components that will be evaluated, there is no specific cut-off.I wanted to visit the campus before applying. When can I come? What is the procedure?We encourage you to visit the campus and meet our admissions team. You can schedule your visit by calling our toll free number\\xa01800 889 1100I am not able to upload my documents. Can I email the documents to be uploaded?It is recommended that you upload all documents through the application portal. In case of any issues, you may reach out to us at admissions@jioinstitute.edu.in or call us at 1800 889 1100. You can also raise a ticket on the\\xa0Admissions portal.Is there any advantage of submitting the application early?Yes, we recommend you to submit your application as early as possible.What if my student visa for India gets rejected. Will the admission fees be refunded?Please read our Refund and Cancellation Policy \\xa0or you may reach out to us at admissions@jioinstitute.edu.in.\\nAre Scholarships available? How can I apply for Scholarships?Generous scholarships will be available to the candidates based on their needs. While filling up your application, you can express your interest for availing scholarship by providing some basic details in the Scholarships and Financial Aid section.What percentage of scholarship can I get?Scholarships can cover a part or the entire tuition fee. The decision regarding grant and percentage of scholarship is at the discretion of the Admissions Committee and will be communicated along with the provisional admission offer letter.I want to apply for loan. Do you have any tie-ups?Yes, Jio Institute also has tie-ups with banks for education loans. For more details reach out to us at admissions@jioinstitute.edu.in or call us at 1800 889 1100.Can you connect me with the concerned person for loan? Can my father or guardian apply for loan on my behalf?We will be happy to share the contact details of the bank representative who will help with you with the education loan procedure.\\nWhat is the fee structure? What all is included in that?The total fee payable for each of the programmes is INR 9,75,000, including admission fee, tuition fee, accommodation, meals and applicable taxes. Students may have to incur additional cost towards laptop, books, documentation, laundry, etc., and travelling expenses for the study abroad module.\\xa0What is the hostel fee? What all facilities do you provide? Are the hostel rooms on sharing basis?Jio Institute shall be providing on-campus double-occupancy hostel accommodation with basic amenities, which includes air-conditioned room with attached bath, ample collaborative spaces, etc. The hostel fee is INR 1,44,108 plus taxes.Where is the campus? What facilities will I get nearby?It is a 52-acre campus located in Ulwe, Navi Mumbai. Ulwe is strategically located and well-connected by road, rail and sea with Mumbai and Navi Mumbai. It is also in proximity to the proposed Navi Mumbai International Airport and Mumbai Trans Harbour Link, several academic institutions and industries.Do I have to stay in the campus accommodation or can choose my own? My house is in Navi Mumbai, so do I need to stay in Hostel?Yes, every student is expected to stay on campus during the entire duration of the course. These are rigorous academic programmes, and to derive maximum advantage, these are designed as fully residential programmes.Can I keep my bike or car in the hostel?Yes, you can park your vehicle in the campus, subject to availability and submission of relevant document to campus security office.Is that area safe for women?\\xa0Safety of its students, faculty and staff is paramount for Jio Institute. Mumbai is one of the safest cities in India. Our campus and hostel facilities have adequate security and surveillance measures to ensure safety for all. Ulwe is predominantly a residential area and is considered quite safe.\\xa0What all facilities does the Hostel have?Each student is provided with a bed, mattress, study table, chair, cupboard, curtains, blinds and dustbin. The common facilities include pantry, recreation room, meeting room, business centre, medical room and laundromat. The hostel facilities also include housekeeping and round-the-clock security.Are there any hostel timing restrictions?The hostel timings will be communicated at the time of joining and will require strict adherence.What food do you serve? Do you have a fixed menu? Do you serve non-vegetarian food? Is Jain food available? Can I get my staple food?We have a curated weekly menu that changes periodically. The menu will also have Jain food options. All meals, including breakfast, lunch and dinner, will be served on all days on campus. Non-vegetarian food is available on certain days of the week. The area is also well-serviced by food delivery operators like Zomato, Swiggy, etc.\\xa0What medical assistance will be available?We have a medical room on campus. A doctor is available at specific timings from Monday to Saturday for general consultations. For specialized requirements and emergencies, students will be referred to a hospital. We have tie-ups with hospitals nearby. We have an ambulance on campus. All students will also be covered under medical insurance.What facilities will be provided for a differently abled student?Our campus is well-equipped to support a differently abled individuals. Moreover, our building is also wheelchair accessible.Will I be able to cook my own food in hostel facility?No, cooking of own food is not allowed. We will be provided all meals, and only microwave will be provided in the common pantry.\\xa0What if I already have a laptop, will the cost be deducted from the fees? Or will Jio Institute provide laptop?Students will have to arrange for their own laptops. The cost of the same is not included in the programme fee.What facilities are available at the Jio Institute campus?Jio Institute’s campus is boasts of a world-class infrastructure for academics, research, curricular, co-curricular as well as extracurricular activities. To know more about the campus ecosystem and the facilities it offers, please click here.\\nHow do I reach the Jio Institute campus?The Jio Institute campus is located in Ulwe, Navi Mumbai, and is well-connected with all major locations across Mumbai through public transport.Nearby landmarks:Railway StationBamandongri (Nerul-Uran Line): 1.1 km, 10 minute-walk\\xa0Bus StopSector 5, Ulwe/Aai Taru Mata Chowk (NMMT): 0.2 km , 3 minutes walk.\\xa0AirportChhatrapati Shivaji Maharaj International Airport: 44 kms, approximately 1.5 hours drive.How is the student life at Jio Institute?Jio\\u202fInstitute believes in\\u202fthe\\u202fholistic development of students by providing a vibrant and multi-faceted environment\\u202fconducive\\u202fto\\u202fpersonal and professional\\u202fgrowth.For more information, click here.What is it like living in the city of Mumbai?Situated on the west coast of India, Mumbai is one of the most cosmopolitan and vibrant cities in the world, and the financial capital of India The city, and its surrounding region, has a vivid history dating back to prehistoric times and is home to diverse communities and natural ecosystems. It's a melting pot of languages, meaning you will never have trouble being understood. Quality of life in Mumbai can be excellent, especially for expatriates, as the cost of living is considerably lower than that of similar cities across the world. There is a large expatriate community within the city and a lively social life, with something for everyone. The city also boasts of severalhistoric sites and is the heart of the Bollywood film industry. Bustling with people from all over the country and across the world, the city provides for amazing variety in food, art and other experiences.What about Navi Mumbai?Navi Mumbai, also known as New Bombay, is a beautiful city and a part of the Mumbai Metropolitan Region. It was originally developed to relieve the city of Mumbai from its growing population and infrastructural demands. Today, Navi Mumbai has shaped into a large metropolitan city with several industries set up in the region. The city is well-planned and has been ranked as the 3rdcleanest city in India. It is also known for its rich biodiversity and numerous nature treks, which are frequented by people of Mumbai and Navi Mumbai alike.Jio Institute’s campus is located in Ulwe in Navi Mumbai. The campus is situated near the upcoming Navi Mumbai International Airport and the upcoming Trans Harbour Sea Link, which, when functional, will significantly reduce the travel time between Navi Mumbai and South Mumbai.What facilities are available at the Jio Institute campus?Jio Institute’s campus boasts of world-class infrastructure for academics, research and extra-curricular activities. To know more about the campus ecosystem and the facilities it offers, please click here.What kind of extra-curricular activities, student clubs, etc., can students enrol in at Jio Institute?Jio Institute hosts a vibrant student community. Students are encouraged to participate in various national and international competitions, be part of dynamic student clubs and pursue their areas of interest. \\xa0To know more about the campus ecosystem and the facilities it offers, please click here.What all sports facilities do you have?Students at the Institute will have numerous sports avenues to explore, participate and stay fit. The following facilities have been designed and developed for the students' community: Athletic Track and Field facility, Basketball and Lawn Tennis court, Cricket Field and Net Practice pitches, Yoga Room, Dedicated Jogging and Cycling Track as well as many indoor sports such as Table Tennis, Carrom, Pool, etc.What kind of safety measures have been undertaken at the campus?Jio Institute accords utmost priority to the safety of its community members. In addition to physical security across the campus, surveillance measures are in place across all public spaces of the Institute. Also, the Institute’s strict anti-ragging policy is in force in the campus.What safety measures are you following in light of COVID 19 situation?We have the necessary infrastructure and medical support available on our campus. We abide by all the necessary regulations as laid down by the competent authority from time to time.Can I access campus facilities on weekends?Yes. All facilities at Jio Institute will be available for its faculty, students and associates on weekends.How will the institute support us in terms of logistics and relocation?The Office of Students Services at Jio Institute will guide you with relocation and relevant information.Would I be Insured?Yes, all students will be covered under a student health insurance plan and a personal accident insurance cover, both of which are paid for by Jio Institute.\\nWhat about placements? Are you giving any assurance?Jio Institute has a dedicated Office of Career Services which liaises with corporates, start-ups, and MNCs to explore live projects and job opportunities for students. Apart from inviting companies for placements, the OCS also provides a comprehensive career preparation module that will help the student pursue a career of his/her choice.\\xa0For more details, please visit Career Development ServicesCan you give any package range (average and highest) for both the programmes?With the kind of effort that is being put in to ensure world-class education and building strong corporate linkages, the student can expect a placement process that provides industry benchmarked opportunities, both in terms of role and compensation.Which are the organizations you have a tie-ups with?Jio Institute has a dedicated Office of Career Services which liaises with corporates, start-ups, and MNCs to explore live projects and job opportunities for students. For more details, please visit Career Development ServicesWhat all roles will be offered after completion of the programmes?After completing the Artificial Intelligence & Data Science programme, students can get roles such as Data Scientist, AI Architect, AI Engineer, Data Architect, Data Engineer, Analytics Manager, etc.After completing the Digital Media & Marketing Communications programme, students can get roles such as Marketing Manager, Digital Product Manager, Brand Manager, Research Analyst, Media Manager, Content Strategist, Communications Specialist, etc.After completing the Sports Management programme, \\xa0students can get into roles such as Contract Manager, Sports Agent, Event Coordinator, Corporate Partnerships Manager, Events \\xa0Coordinator, Facilities Manager, Venue Manager, Athlete Manager, Marketing Executive, Operations Manager, Sport Video Analyst, Sport Data Analyst, Social Media Manager, Content Writer, Sport Agent, etc.What kind of companies will come for recruitment?We have relationships with companies from sectors like IT, FMCG, Retail, Manufacturing, Media, BFSI, Fintech, Digital Services, Sports, Technology, and start-ups, who are invited for placements. A big advantage that students of Jio Institute have is the support of the Reliance Group, which has many companies across multiple domains where students will get to explore a career.What kind of salaries can we expect?We will bring quality recruiters to campus, but you as a student will have to prepare and perform to convert these interactions into opportunities.I have more experience? Will I have an advantage over others during placements?It is generally observed that CTC increases with increase in relevant experience. We expect the same trend with our students where they will receive salaries commensurate with their experience and skills.Will the Reliance Group provide job guarantee?Reliance will provide the same career opportunities to our students that they provide to the students from top-tier institutions. Students will have to prepare and perform to earn these opportunities.What is the entrepreneurship support and seed funding a student gets?For students seeking to start their own ventures, Jio Institute will provide a comprehensive training module that will help the student understand how to:•\\xa0\\xa0\\xa0\\xa0Assess market demand and product market fit•\\xa0\\xa0\\xa0\\xa0Build a minimum viable product•\\xa0\\xa0\\xa0\\xa0Create HR, Operations & Financial processes•\\xa0\\xa0\\xa0\\xa0Scale up for growthIf some of the students want to go the next stage and build their product, then our experts will review their idea and if found viable connect them with start-up founders for mentoring.For suitable start-up ideas, we will also provide access to ecosystem meetups, where the student can network with start-up mentors and investors for investment and guidance.How will the students get access to Reliance ecosystem?There will be lectures, seminars, industry visits and other opportunities \\xa0where students will be able to meet and interact with industry leaders from Reliance Group. Students will also have access to the Reliance ecosystem in the form of live projects and career-oriented initiatives.Will I be able to work in India post completion of my programme?All domestic will get a postgraduate certificate after completion of their respective programmes, and the Office of Career Services will work with you closely to identify suitable career opportunities based on your interest areas. International students can write to us at admissions@jioinstitute.edu.in to discuss their job prospects.Can I go back to my own country and work there based on this certification?Yes, our programmes have been designed keeping in mind the global curriculum and to help participants build a successful career globally.\\nLocation:\\nUlwe, Navi Mumbai, Maharashtra 410206\\nWrite to us\\nadmissions@jioinstitute.edu.in\\nTalk to us\\n1800-889-1100\\nWhatsApp Us\\nTalk To Us\\nDownload BrochureDownload Brochure×\\nABOUT\\nAbout Us\\nOur Story\\nOur Vision\\nThe Jio Institute Advantage\\nGrowth Plan\\nFrequently Asked Questions\\nACADEMICS\\nAcademic Overview\\nHolistic Learning\\nStudy Abroad\\nCapstone & Industry Immersion\\nLaboratories\\nLibrary\\nCareer Development Services\\nFACULTY & RESEARCH\\nFaculty\\nResearch\\nInnovation\\nCentre of AI for All\\nJio Digital Library\\nEVENTS\\nCAMPUS LIFE\\nADMISSIONS\\nEXEC. EDUCATION\\nEVENTS\\nNews\\nBlog\\nCareers\\nCONTACT\\nSUBSCRIBE UPDATES\\nEnter your email id\\nSubscribe\\nSocial Media\\nFooter\\nTerms and Conditions\\nPrivacy Policy\\nRefund & Cancellation Policy\\nSitemap\\nFAQs\\nFaculty and Student login\\nRil Footer\\nReliance Industries\\nReliance Foundation\\nJio\\n© 2024 Jio Institute. All rights reserved.\""
            ]
          },
          "execution_count": 9,
          "metadata": {},
          "output_type": "execute_result"
        }
      ],
      "source": [
        "docs[0].page_content"
      ]
    },
    {
      "cell_type": "markdown",
      "metadata": {
        "id": "YztBmFbAzzDw"
      },
      "source": [
        "### Document Splitting (Chunks)"
      ]
    },
    {
      "cell_type": "code",
      "execution_count": 12,
      "metadata": {
        "id": "eckuZ8wuwKTI"
      },
      "outputs": [],
      "source": [
        "# Split documents into chunks\n",
        "chunks = split_documents_into_chunks(docs)"
      ]
    },
    {
      "cell_type": "code",
      "execution_count": 13,
      "metadata": {
        "colab": {
          "base_uri": "https://localhost:8080/"
        },
        "id": "VvHcuurzzOOb",
        "outputId": "2db63670-0eef-4b19-d037-71369780e33c"
      },
      "outputs": [
        {
          "data": {
            "text/plain": [
              "93"
            ]
          },
          "execution_count": 13,
          "metadata": {},
          "output_type": "execute_result"
        }
      ],
      "source": [
        "len(chunks)"
      ]
    },
    {
      "cell_type": "code",
      "execution_count": 15,
      "metadata": {
        "colab": {
          "base_uri": "https://localhost:8080/"
        },
        "id": "OvBPSbRz162E",
        "outputId": "eb678e7e-a6d3-487c-9e4c-5392a00f7d6f"
      },
      "outputs": [
        {
          "data": {
            "text/plain": [
              "[Document(page_content='Where is Jio Institute\\xa0located?\\xa0The Jio Institute campus is located in Ulwe, Navi Mumbai, and is well-connected with all major locations across Mumbai through public transport.\\xa0Nearby landmarksRailway Station: Bamandongri (Nerul-Uran Line) 1.1 km , 10 minute-walkBus Stop: Sector 5, Ulwe / Aai Taru Mata Chowk (NMMT) 0.2 km, 3 minute-walk.Airport: Chhatrapati Shivaji Maharaj International Airport, 44 km, approximately 1.5-hour drive.\\xa0\\xa0What is the leadership structure of Jio Institute?\\xa0Jio', metadata={'source': 'https://www.jioinstitute.edu.in/faq', 'title': 'FREQUENTLY ASKED QUESTIONS - Jio Institute', 'description': 'Learn more about Jio Institute and the various programmes offered.', 'language': 'en'}),\n",
              " Document(page_content='1.5-hour drive.\\xa0\\xa0What is the leadership structure of Jio Institute?\\xa0Jio Institute is led by a Governing Council, a Global Advisory Council comprising academicians from around the world as well as different Academic Advisors for different programmes.What kind of reservation policy\\xa0does\\xa0Jio Institute follow?\\xa0\\xa0Jio Institute follows a need-blind merit-based selection process.', metadata={'source': 'https://www.jioinstitute.edu.in/faq', 'title': 'FREQUENTLY ASKED QUESTIONS - Jio Institute', 'description': 'Learn more about Jio Institute and the various programmes offered.', 'language': 'en'}),\n",
              " Document(page_content='Is Jio Institute affiliated to any entity?Jio Institute is a private higher education institution committed to offer world-class education delivered by renowned faculty from around the world.What is the batch size?\\xa0The batch size of PGP in AI&DS and DM&MC is about 60 students. For PGP in Sports Management, batch size is about 40 students.Why should I consider Jio Institute over any other established university/school?Jio Institute is research-focussed multidisciplinary institution with', metadata={'source': 'https://www.jioinstitute.edu.in/faq', 'title': 'FREQUENTLY ASKED QUESTIONS - Jio Institute', 'description': 'Learn more about Jio Institute and the various programmes offered.', 'language': 'en'}),\n",
              " Document(page_content='Institute is research-focussed multidisciplinary institution with world-class programmes, faculty from globally top-ranked universities and state-of-the-art infrastructure. It seeks to provide holistic development to students and prepare them to be future leaders. Our programmes are carefully designed to achieve academic excellence, business relevance and social significance. By leveraging our connections with industry, the Institute will enable students to grow personally and professionally,', metadata={'source': 'https://www.jioinstitute.edu.in/faq', 'title': 'FREQUENTLY ASKED QUESTIONS - Jio Institute', 'description': 'Learn more about Jio Institute and the various programmes offered.', 'language': 'en'}),\n",
              " Document(page_content='the Institute will enable students to grow personally and professionally, and simultaneously make an impact on society. Students of Jio Institute will also get an opportunity to travel overseas to study at one of our collaborating institutions.For more details, please refer\\xa0The Jio Institute Advantage.What are the lab facilities at Jio Institute? How will it be helpful during the programme?We have state-of-the-art labs as per the course requirements. For AI & DS programme, we have set up', metadata={'source': 'https://www.jioinstitute.edu.in/faq', 'title': 'FREQUENTLY ASKED QUESTIONS - Jio Institute', 'description': 'Learn more about Jio Institute and the various programmes offered.', 'language': 'en'}),\n",
              " Document(page_content=\"labs as per the course requirements. For AI & DS programme, we have set up dedicated labs such as Robotics, AR/VR Lab and Computer Vision Lab.\\xa0For DM & MC programme, we have set up dedicated labs such as Media Studio, Production Control Lab, Audio and Video Editing Bay.For more details, please visit Laboratories.What is the affiliation of Jio Institute? Is it recognised by UGC? What is it's ranking in India?Jio Institute is a private higher education institution committed to offer word-class\", metadata={'source': 'https://www.jioinstitute.edu.in/faq', 'title': 'FREQUENTLY ASKED QUESTIONS - Jio Institute', 'description': 'Learn more about Jio Institute and the various programmes offered.', 'language': 'en'}),\n",
              " Document(page_content='is a private higher education institution committed to offer word-class education delivered by renowned faculty from around the world.\\xa0Jio Institute aspires to feature in the top global rankings over next 15 years.\\xa0Over a period, Jio Institute shall provide programmes in Computing & Engineering, Architecture & Urban Planning, Media, Communication & Journalism, Arts, Humanities & Science, Management & Entrepreneurship, Law Governance & Policy, and Medicine at UG, PG, Doctoral and Post-Doctoral', metadata={'source': 'https://www.jioinstitute.edu.in/faq', 'title': 'FREQUENTLY ASKED QUESTIONS - Jio Institute', 'description': 'Learn more about Jio Institute and the various programmes offered.', 'language': 'en'}),\n",
              " Document(page_content=\"Governance & Policy, and Medicine at UG, PG, Doctoral and Post-Doctoral level.\\xa0For details about Jio Institute's growth plan, please refer Growth Plan.\", metadata={'source': 'https://www.jioinstitute.edu.in/faq', 'title': 'FREQUENTLY ASKED QUESTIONS - Jio Institute', 'description': 'Learn more about Jio Institute and the various programmes offered.', 'language': 'en'}),\n",
              " Document(page_content='Where can I learn more about Jio Institute’s academic programmes?Jio Institute is offering postgraduate \\xa0programmes in the following areas:For information about the Artificial Intelligence & Data Science (AI & DS) curriculum, click here.For information about the Digital Media & Marketing Communications (DM & MC) curriculum, click here.For information about the Sports Management curriculum, click here.When will Jio Institute begin its academic year?For this Academic Year, classes will commence', metadata={'source': 'https://www.jioinstitute.edu.in/faq', 'title': 'FREQUENTLY ASKED QUESTIONS - Jio Institute', 'description': 'Learn more about Jio Institute and the various programmes offered.', 'language': 'en'}),\n",
              " Document(page_content='begin its academic year?For this Academic Year, classes will commence in April 2024. For more information about our academic programmes, please click here.For more information about our academic programmes, please click here.Can you tell us more about Jio Institute’s curriculum?Jio Institute offers programmes with a comprehensive and research-focused curriculum.For information about the Artificial Intelligence & Data Science (AI & DS) curriculum, click here.For information about the Digital', metadata={'source': 'https://www.jioinstitute.edu.in/faq', 'title': 'FREQUENTLY ASKED QUESTIONS - Jio Institute', 'description': 'Learn more about Jio Institute and the various programmes offered.', 'language': 'en'})]"
            ]
          },
          "execution_count": 15,
          "metadata": {},
          "output_type": "execute_result"
        }
      ],
      "source": [
        "chunks[5:15]"
      ]
    },
    {
      "cell_type": "markdown",
      "metadata": {
        "id": "E9LUYsF3C5yG"
      },
      "source": [
        "### Embeddings & Vectorstores"
      ]
    },
    {
      "cell_type": "code",
      "execution_count": 16,
      "metadata": {
        "colab": {
          "base_uri": "https://localhost:8080/"
        },
        "id": "dn9WPo4p5peY",
        "outputId": "6f2a96a8-683f-4c0a-da8c-cae2e20a5269"
      },
      "outputs": [
        {
          "name": "stderr",
          "output_type": "stream",
          "text": [
            "/Library/Frameworks/Python.framework/Versions/3.11/lib/python3.11/site-packages/langchain_core/_api/deprecation.py:117: LangChainDeprecationWarning: The class `langchain_community.embeddings.openai.OpenAIEmbeddings` was deprecated in langchain-community 0.0.9 and will be removed in 0.2.0. An updated version of the class exists in the langchain-openai package and should be used instead. To use it run `pip install -U langchain-openai` and import as `from langchain_openai import OpenAIEmbeddings`.\n",
            "  warn_deprecated(\n"
          ]
        }
      ],
      "source": [
        "# Create OpenAI embeddings\n",
        "embeddings = OpenAIEmbeddings(openai_api_key=OPENAI_API_KEY)"
      ]
    },
    {
      "cell_type": "code",
      "execution_count": 17,
      "metadata": {
        "id": "yi_BITxX-O0n"
      },
      "outputs": [
        {
          "name": "stdout",
          "output_type": "stream",
          "text": [
            "2024-04-18 12:40:00 - Anonymized telemetry enabled. See                     https://docs.trychroma.com/telemetry for more information.\n",
            "2024-04-18 12:40:01 - HTTP Request: POST https://api.openai.com/v1/embeddings \"HTTP/1.1 200 OK\"\n"
          ]
        }
      ],
      "source": [
        "# Create vector database\n",
        "\n",
        "persist_directory = 'docs/chroma_db/'\n",
        "vectordb = create_vector_database(chunks, embeddings, persist_directory)"
      ]
    },
    {
      "cell_type": "code",
      "execution_count": 18,
      "metadata": {
        "colab": {
          "base_uri": "https://localhost:8080/"
        },
        "id": "FvlLH-oFMgbk",
        "outputId": "02ab334a-7e36-4953-b402-9c9a02c74b01"
      },
      "outputs": [
        {
          "name": "stdout",
          "output_type": "stream",
          "text": [
            "2024-04-18 12:40:14 - HTTP Request: POST https://api.openai.com/v1/embeddings \"HTTP/1.1 200 OK\"\n"
          ]
        },
        {
          "data": {
            "text/plain": [
              "[0.0034888065669464808,\n",
              " 0.002677692872168161,\n",
              " -0.01174926874064707,\n",
              " -0.019412425121234877,\n",
              " -0.027326721932328372,\n",
              " 0.01513626149998903,\n",
              " -0.02518185264318611,\n",
              " -0.0085862646350884,\n",
              " -0.04455355289330494,\n",
              " -0.015923618321457767]"
            ]
          },
          "execution_count": 18,
          "metadata": {},
          "output_type": "execute_result"
        }
      ],
      "source": [
        "# to check/print embeddings\n",
        "\n",
        "# sentence1 = \"i like dogs\"\n",
        "# embedding1 = embeddings.embed_query(sentence1)\n",
        "# embedding1\n",
        "# np.dot(embedding1, embedding2)\n",
        "\n",
        "embedding0 = embeddings.embed_query(str(chunks[0]))\n",
        "embedding0[:10]"
      ]
    },
    {
      "cell_type": "code",
      "execution_count": 19,
      "metadata": {
        "colab": {
          "base_uri": "https://localhost:8080/"
        },
        "id": "Tk5wkQt0iYIP",
        "outputId": "88c56df5-9b9a-4e47-f18a-3c4169ebf36d"
      },
      "outputs": [
        {
          "data": {
            "text/plain": [
              "2103"
            ]
          },
          "execution_count": 19,
          "metadata": {},
          "output_type": "execute_result"
        }
      ],
      "source": [
        "vectordb._collection.count()"
      ]
    },
    {
      "cell_type": "markdown",
      "metadata": {
        "id": "ghUCbekckoov"
      },
      "source": [
        "### Similarity Search for demo\n",
        "\n",
        "question = \"is there an email i can ask for help\"  \n",
        "docs = vectordb.similarity_search(question,k=3)  \n",
        "len(docs)  \n",
        "docs"
      ]
    },
    {
      "cell_type": "code",
      "execution_count": 20,
      "metadata": {
        "id": "LinjH5JnmUe5"
      },
      "outputs": [
        {
          "name": "stdout",
          "output_type": "stream",
          "text": [
            "2024-04-18 12:41:00 - HTTP Request: POST https://api.openai.com/v1/embeddings \"HTTP/1.1 200 OK\"\n"
          ]
        }
      ],
      "source": [
        "question = \"What are the courses offered by Jio Institute\"\n",
        "res = vectordb.similarity_search(question,k=3)"
      ]
    },
    {
      "cell_type": "code",
      "execution_count": 21,
      "metadata": {
        "colab": {
          "base_uri": "https://localhost:8080/"
        },
        "id": "eWnKu1pVmUWP",
        "outputId": "8039e7a8-b220-4693-ad82-3a87fa84047a"
      },
      "outputs": [
        {
          "data": {
            "text/plain": [
              "3"
            ]
          },
          "execution_count": 21,
          "metadata": {},
          "output_type": "execute_result"
        }
      ],
      "source": [
        "len(res)"
      ]
    },
    {
      "cell_type": "code",
      "execution_count": 22,
      "metadata": {
        "colab": {
          "base_uri": "https://localhost:8080/"
        },
        "id": "UDHradQcmUCR",
        "outputId": "13220b52-cf4c-491c-9cc6-8077e945c92a"
      },
      "outputs": [
        {
          "data": {
            "text/plain": [
              "[Document(page_content='training in these programmes?The programmes are comprehensive and rigorous with a good blend of theory and practice. In addition to classroom-based lectures, the programmes include experiential and hands-on learning components such as case studies, lab assignments, projects, industry visits and capstone projects, etc.How is the curriculum structured?For details about curriculum, please visit website \\xa0or write to us at you may reach out to us at admissions@jioinstitute.edu.inWhat all courses do you provide? Is it a degree programme?Presently, Jio Institute offers Postgraduate Programmes in three disciplines: Artificial Intelligence & Data Science (AI & DS), Digital Media & Marketing', metadata={'description': 'Learn more about Jio Institute and the various programmes offered.', 'language': 'en', 'source': 'https://www.jioinstitute.edu.in/faq', 'title': 'FREQUENTLY ASKED QUESTIONS - Jio Institute'}),\n",
              " Document(page_content='training in these programmes?The programmes are comprehensive and rigorous with a good blend of theory and practice. In addition to classroom-based lectures, the programmes include experiential and hands-on learning components such as case studies, lab assignments, projects, industry visits and capstone projects, etc.How is the curriculum structured?For details about curriculum, please visit website \\xa0or write to us at you may reach out to us at admissions@jioinstitute.edu.inWhat all courses do you provide? Is it a degree programme?Presently, Jio Institute offers Postgraduate Programmes in three disciplines: Artificial Intelligence & Data Science (AI & DS), Digital Media & Marketing', metadata={'description': 'Learn more about Jio Institute and the various programmes offered.', 'language': 'en', 'source': 'https://www.jioinstitute.edu.in/faq', 'title': 'FREQUENTLY ASKED QUESTIONS - Jio Institute'}),\n",
              " Document(page_content='training in these programmes?The programmes are comprehensive and rigorous with a good blend of theory and practice. In addition to classroom-based lectures, the programmes include experiential and hands-on learning components such as case studies, lab assignments, projects, industry visits and capstone projects, etc.How is the curriculum structured?For details about curriculum, please visit website \\xa0or write to us at you may reach out to us at admissions@jioinstitute.edu.inWhat all courses do you provide? Is it a degree programme?Presently, Jio Institute offers Postgraduate Programmes in three disciplines: Artificial Intelligence & Data Science (AI & DS), Digital Media & Marketing', metadata={'description': 'Learn more about Jio Institute and the various programmes offered.', 'language': 'en', 'source': 'https://www.jioinstitute.edu.in/faq', 'title': 'FREQUENTLY ASKED QUESTIONS - Jio Institute'})]"
            ]
          },
          "execution_count": 22,
          "metadata": {},
          "output_type": "execute_result"
        }
      ],
      "source": [
        "\n",
        "res"
      ]
    },
    {
      "cell_type": "markdown",
      "metadata": {
        "id": "q9DXwrI0oaL8"
      },
      "source": [
        "### Retrieval"
      ]
    },
    {
      "cell_type": "code",
      "execution_count": 23,
      "metadata": {
        "id": "BnKRGmW2fyMm"
      },
      "outputs": [],
      "source": [
        "# Define Retriever\n",
        "retriever = vectordb.as_retriever(search_type=\"similarity\", search_kwargs={\"k\": 3})"
      ]
    },
    {
      "cell_type": "markdown",
      "metadata": {
        "id": "PzobWD_WGcSb"
      },
      "source": [
        "### Initialize chat model"
      ]
    },
    {
      "cell_type": "code",
      "execution_count": 24,
      "metadata": {
        "colab": {
          "base_uri": "https://localhost:8080/"
        },
        "id": "3U3rPbgOGcEe",
        "outputId": "2fa1604e-11b1-4516-c4d4-ac46d4975755"
      },
      "outputs": [
        {
          "name": "stderr",
          "output_type": "stream",
          "text": [
            "/Library/Frameworks/Python.framework/Versions/3.11/lib/python3.11/site-packages/langchain_core/_api/deprecation.py:117: LangChainDeprecationWarning: The class `langchain_community.chat_models.openai.ChatOpenAI` was deprecated in langchain-community 0.0.10 and will be removed in 0.2.0. An updated version of the class exists in the langchain-openai package and should be used instead. To use it run `pip install -U langchain-openai` and import as `from langchain_openai import ChatOpenAI`.\n",
            "  warn_deprecated(\n"
          ]
        }
      ],
      "source": [
        "llm_name = 'gpt-3.5-turbo'\n",
        "llm = initialize_chat_model(llm_name, OPENAI_API_KEY)"
      ]
    },
    {
      "cell_type": "code",
      "execution_count": 25,
      "metadata": {
        "colab": {
          "base_uri": "https://localhost:8080/",
          "height": 70
        },
        "id": "EMag8C-dKExL",
        "outputId": "38e2a34f-b4f9-48d2-f960-f93077b6c380"
      },
      "outputs": [
        {
          "name": "stderr",
          "output_type": "stream",
          "text": [
            "/Library/Frameworks/Python.framework/Versions/3.11/lib/python3.11/site-packages/langchain_core/_api/deprecation.py:117: LangChainDeprecationWarning: The function `__call__` was deprecated in LangChain 0.1.0 and will be removed in 0.2.0. Use invoke instead.\n",
            "  warn_deprecated(\n"
          ]
        },
        {
          "name": "stdout",
          "output_type": "stream",
          "text": [
            "2024-04-18 12:41:07 - HTTP Request: POST https://api.openai.com/v1/embeddings \"HTTP/1.1 200 OK\"\n",
            "2024-04-18 12:41:08 - HTTP Request: POST https://api.openai.com/v1/chat/completions \"HTTP/1.1 200 OK\"\n"
          ]
        },
        {
          "data": {
            "text/plain": [
              "'Jio Institute offers Postgraduate Programmes in three disciplines: Artificial Intelligence & Data Science (AI & DS), Digital Media & Marketing.'"
            ]
          },
          "execution_count": 25,
          "metadata": {},
          "output_type": "execute_result"
        }
      ],
      "source": [
        "# Retrieval QA chain checking\n",
        "\n",
        "# go to source code for RetrievalQA\n",
        "# code line - 242 : connect to vector database\n",
        "\n",
        "qa_chain_check = RetrievalQA.from_chain_type(\n",
        "    llm,\n",
        "    retriever= retriever\n",
        ")\n",
        "res = qa_chain_check({\"query\": question})\n",
        "res['result']"
      ]
    },
    {
      "cell_type": "markdown",
      "metadata": {
        "id": "FwpuKZkyGvWA"
      },
      "source": [
        "#### Building prompt"
      ]
    },
    {
      "cell_type": "code",
      "execution_count": 24,
      "metadata": {
        "id": "5SIOjMZpG0vL"
      },
      "outputs": [],
      "source": [
        "# defining template\n",
        "template = \"\"\"Please utilize the provided context to respond to the question at the end. If you're unsure of the answer, it's perfectly fine to acknowledge that you don't know rather than attempting to fabricate a response. Keep your answer concise, limiting it to three sentences at most. Additionally, remember to conclude your response with \"thanks for asking!\n",
        "    {context}\n",
        "    Question: {question}\n",
        "    Helpful Answer:\"\"\"\n",
        "\n",
        "# creating prompt chain\n",
        "QA_CHAIN_PROMPT = PromptTemplate(input_variables=[\"context\", \"question\"],template=template)"
      ]
    },
    {
      "cell_type": "markdown",
      "metadata": {
        "id": "NyKKVvJmGHUP"
      },
      "source": [
        "#### creating qa retrieval chain"
      ]
    },
    {
      "cell_type": "code",
      "execution_count": 25,
      "metadata": {
        "id": "GGVdKnfHDZWz"
      },
      "outputs": [],
      "source": [
        "# go to source code for RetrievalQA\n",
        "# code line - 242 : connect to vector database\n",
        "\n",
        "qa_chain = RetrievalQA.from_chain_type(llm,\n",
        "                                       retriever=retriever,\n",
        "                                       return_source_documents=True,\n",
        "                                       chain_type_kwargs={\"prompt\": QA_CHAIN_PROMPT})"
      ]
    },
    {
      "cell_type": "code",
      "execution_count": 26,
      "metadata": {
        "colab": {
          "base_uri": "https://localhost:8080/",
          "height": 70
        },
        "id": "L_sCvfB9DZUC",
        "outputId": "88de1cf9-9beb-4352-c8b0-8a39a5c9e373"
      },
      "outputs": [
        {
          "data": {
            "application/vnd.google.colaboratory.intrinsic+json": {
              "type": "string"
            },
            "text/plain": [
              "'Jio Institute is offering postgraduate programs in the following areas: Artificial Intelligence & Data Science, Digital Media & Marketing Communications, and Sports Management. They also plan to offer programs in Computing & Engineering, Architecture & Urban Planning, Media, Communication & Journalism, Arts, Humanities & Science, Management & Entrepreneurship, Law Governance & Policy, and Medicine at UG, PG, Doctoral, and Post-Doctoral levels in the future.'"
            ]
          },
          "execution_count": 26,
          "metadata": {},
          "output_type": "execute_result"
        }
      ],
      "source": [
        "Ans = qa_chain({\"query\": question})\n",
        "res['result']"
      ]
    },
    {
      "cell_type": "code",
      "execution_count": 27,
      "metadata": {
        "colab": {
          "base_uri": "https://localhost:8080/"
        },
        "id": "NpBIYDCin0tw",
        "outputId": "7cdea191-f588-4693-b5fa-443fab9520ac"
      },
      "outputs": [
        {
          "data": {
            "text/plain": [
              "{'query': 'What are the courses offered by Jio Institute',\n",
              " 'result': 'Jio Institute offers postgraduate programmes in Artificial Intelligence & Data Science, Digital Media & Marketing Communications, and Sports Management. For more information, you can visit their website or contact them directly. Thanks for asking!',\n",
              " 'source_documents': [Document(page_content='Where can I learn more about Jio Institute’s academic programmes?Jio Institute is offering postgraduate \\xa0programmes in the following areas:For information about the Artificial Intelligence & Data Science (AI & DS) curriculum, click here.For information about the Digital Media & Marketing Communications (DM & MC) curriculum, click here.For information about the Sports Management curriculum, click here.When will Jio Institute begin its academic year?For this Academic Year, classes will commence', metadata={'description': 'Learn more about Jio Institute and the various programmes offered.', 'language': 'en', 'source': 'https://www.jioinstitute.edu.in/faq', 'title': 'FREQUENTLY ASKED QUESTIONS - Jio Institute'}),\n",
              "  Document(page_content='is a private higher education institution committed to offer word-class education delivered by renowned faculty from around the world.\\xa0Jio Institute aspires to feature in the top global rankings over next 15 years.\\xa0Over a period, Jio Institute shall provide programmes in Computing & Engineering, Architecture & Urban Planning, Media, Communication & Journalism, Arts, Humanities & Science, Management & Entrepreneurship, Law Governance & Policy, and Medicine at UG, PG, Doctoral and Post-Doctoral', metadata={'description': 'Learn more about Jio Institute and the various programmes offered.', 'language': 'en', 'source': 'https://www.jioinstitute.edu.in/faq', 'title': 'FREQUENTLY ASKED QUESTIONS - Jio Institute'}),\n",
              "  Document(page_content='Jio Institute teach in-person classes and are on campus for the duration of the course. While some classes may also be online.Can you connect me to any of the faculty?Information about the faculty is available on our website and in our programme brochures. If you have a specific query, please write to us at admissions@jioinstitute.edu.in.What is the ratio of theoretical and practical training in these programmes?The programmes are comprehensive and rigorous with a good blend of theory and', metadata={'description': 'Learn more about Jio Institute and the various programmes offered.', 'language': 'en', 'source': 'https://www.jioinstitute.edu.in/faq', 'title': 'FREQUENTLY ASKED QUESTIONS - Jio Institute'})]}"
            ]
          },
          "execution_count": 27,
          "metadata": {},
          "output_type": "execute_result"
        }
      ],
      "source": [
        "Ans"
      ]
    },
    {
      "cell_type": "code",
      "execution_count": 10,
      "metadata": {
        "id": "RQa3OfPtDVU1"
      },
      "outputs": [],
      "source": [
        "import pandas as pd\n",
        "df = pd.read_csv('chat_log.csv')"
      ]
    },
    {
      "cell_type": "code",
      "execution_count": 13,
      "metadata": {},
      "outputs": [
        {
          "data": {
            "text/html": [
              "<div>\n",
              "<style scoped>\n",
              "    .dataframe tbody tr th:only-of-type {\n",
              "        vertical-align: middle;\n",
              "    }\n",
              "\n",
              "    .dataframe tbody tr th {\n",
              "        vertical-align: top;\n",
              "    }\n",
              "\n",
              "    .dataframe thead th {\n",
              "        text-align: right;\n",
              "    }\n",
              "</style>\n",
              "<table border=\"1\" class=\"dataframe\">\n",
              "  <thead>\n",
              "    <tr style=\"text-align: right;\">\n",
              "      <th></th>\n",
              "      <th>User's Query</th>\n",
              "      <th>Retrieval Time</th>\n",
              "      <th>Closest Similar Match 1</th>\n",
              "      <th>Closest Similar Match 2</th>\n",
              "      <th>Closest Similar Match 3</th>\n",
              "      <th>Summarization Time</th>\n",
              "      <th>Summarized Response</th>\n",
              "    </tr>\n",
              "  </thead>\n",
              "  <tbody>\n",
              "    <tr>\n",
              "      <th>0</th>\n",
              "      <td>What are different type of games available ins...</td>\n",
              "      <td>0.447</td>\n",
              "      <td>Mumbai and South Mumbai.What facilities are av...</td>\n",
              "      <td>Mumbai and South Mumbai.What facilities are av...</td>\n",
              "      <td>Mumbai and South Mumbai.What facilities are av...</td>\n",
              "      <td>1.779</td>\n",
              "      <td>The Jio Institute campus offers a variety of s...</td>\n",
              "    </tr>\n",
              "    <tr>\n",
              "      <th>1</th>\n",
              "      <td>what courses are offered</td>\n",
              "      <td>0.744</td>\n",
              "      <td>training in these programmes?The programmes ar...</td>\n",
              "      <td>training in these programmes?The programmes ar...</td>\n",
              "      <td>training in these programmes?The programmes ar...</td>\n",
              "      <td>1.610</td>\n",
              "      <td>Jio Institute offers Postgraduate Programmes i...</td>\n",
              "    </tr>\n",
              "    <tr>\n",
              "      <th>2</th>\n",
              "      <td>hi</td>\n",
              "      <td>0.650</td>\n",
              "      <td>weekends?Jio Institute has set up a state-of-t...</td>\n",
              "      <td>you to better understand the application of kn...</td>\n",
              "      <td>you to better understand the application of kn...</td>\n",
              "      <td>1.043</td>\n",
              "      <td>Hello! How can I assist you today? Thanks for ...</td>\n",
              "    </tr>\n",
              "    <tr>\n",
              "      <th>3</th>\n",
              "      <td>who are faculties for AI DS programme</td>\n",
              "      <td>0.405</td>\n",
              "      <td>in three disciplines: Artificial Intelligence ...</td>\n",
              "      <td>in three disciplines: Artificial Intelligence ...</td>\n",
              "      <td>in three disciplines: Artificial Intelligence ...</td>\n",
              "      <td>1.822</td>\n",
              "      <td>The faculties for the AI &amp; DS programme are ex...</td>\n",
              "    </tr>\n",
              "    <tr>\n",
              "      <th>4</th>\n",
              "      <td>who are faculties for DMMC programme</td>\n",
              "      <td>0.469</td>\n",
              "      <td>in DM &amp; MC comprises electives such as Content...</td>\n",
              "      <td>in DM &amp; MC comprises electives such as Content...</td>\n",
              "      <td>in DM &amp; MC comprises electives such as Content...</td>\n",
              "      <td>1.958</td>\n",
              "      <td>The faculties for the DMMC programme consist o...</td>\n",
              "    </tr>\n",
              "  </tbody>\n",
              "</table>\n",
              "</div>"
            ],
            "text/plain": [
              "                                        User's Query  Retrieval Time  \\\n",
              "0  What are different type of games available ins...           0.447   \n",
              "1                           what courses are offered           0.744   \n",
              "2                                                 hi           0.650   \n",
              "3              who are faculties for AI DS programme           0.405   \n",
              "4               who are faculties for DMMC programme           0.469   \n",
              "\n",
              "                             Closest Similar Match 1  \\\n",
              "0  Mumbai and South Mumbai.What facilities are av...   \n",
              "1  training in these programmes?The programmes ar...   \n",
              "2  weekends?Jio Institute has set up a state-of-t...   \n",
              "3  in three disciplines: Artificial Intelligence ...   \n",
              "4  in DM & MC comprises electives such as Content...   \n",
              "\n",
              "                             Closest Similar Match 2  \\\n",
              "0  Mumbai and South Mumbai.What facilities are av...   \n",
              "1  training in these programmes?The programmes ar...   \n",
              "2  you to better understand the application of kn...   \n",
              "3  in three disciplines: Artificial Intelligence ...   \n",
              "4  in DM & MC comprises electives such as Content...   \n",
              "\n",
              "                             Closest Similar Match 3  Summarization Time  \\\n",
              "0  Mumbai and South Mumbai.What facilities are av...               1.779   \n",
              "1  training in these programmes?The programmes ar...               1.610   \n",
              "2  you to better understand the application of kn...               1.043   \n",
              "3  in three disciplines: Artificial Intelligence ...               1.822   \n",
              "4  in DM & MC comprises electives such as Content...               1.958   \n",
              "\n",
              "                                 Summarized Response  \n",
              "0  The Jio Institute campus offers a variety of s...  \n",
              "1  Jio Institute offers Postgraduate Programmes i...  \n",
              "2  Hello! How can I assist you today? Thanks for ...  \n",
              "3  The faculties for the AI & DS programme are ex...  \n",
              "4  The faculties for the DMMC programme consist o...  "
            ]
          },
          "execution_count": 13,
          "metadata": {},
          "output_type": "execute_result"
        }
      ],
      "source": [
        "df.head()"
      ]
    },
    {
      "cell_type": "code",
      "execution_count": null,
      "metadata": {},
      "outputs": [],
      "source": []
    }
  ],
  "metadata": {
    "colab": {
      "provenance": []
    },
    "kernelspec": {
      "display_name": "Python 3",
      "name": "python3"
    },
    "language_info": {
      "codemirror_mode": {
        "name": "ipython",
        "version": 3
      },
      "file_extension": ".py",
      "mimetype": "text/x-python",
      "name": "python",
      "nbconvert_exporter": "python",
      "pygments_lexer": "ipython3",
      "version": "3.11.4"
    }
  },
  "nbformat": 4,
  "nbformat_minor": 0
}
